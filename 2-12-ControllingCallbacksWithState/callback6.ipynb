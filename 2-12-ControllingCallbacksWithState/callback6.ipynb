{
 "cells": [
  {
   "cell_type": "code",
   "execution_count": 2,
   "metadata": {},
   "outputs": [],
   "source": [
    "import dash \n",
    "from dash import dcc, html \n",
    "from dash.dependencies import Input, Output, State"
   ]
  },
  {
   "cell_type": "code",
   "execution_count": 3,
   "metadata": {},
   "outputs": [
    {
     "data": {
      "text/html": [
       "\n",
       "        <iframe\n",
       "            width=\"100%\"\n",
       "            height=\"650\"\n",
       "            src=\"http://127.0.0.1:8050/\"\n",
       "            frameborder=\"0\"\n",
       "            allowfullscreen\n",
       "            \n",
       "        ></iframe>\n",
       "        "
      ],
      "text/plain": [
       "<IPython.lib.display.IFrame at 0x1162f99d0>"
      ]
     },
     "metadata": {},
     "output_type": "display_data"
    }
   ],
   "source": [
    "app = dash.Dash(__name__)\n",
    "\n",
    "app.layout = html.Div([\n",
    "    html.H1('Dash with State'),\n",
    "    html.Label('Input:'),\n",
    "    html.Br(),\n",
    "    dcc.Input(id='number-in', value=1, style={'fontSize': 24, \n",
    "                                              'width': '50%',  \n",
    "                                              'marginBottom': '20px'}),\n",
    "    html.Button(id='submit-button', n_clicks=0, children='Update',\n",
    "                style={'fontSize': 24, 'width': '50%', 'marginBottom': '20px'}),\n",
    "    html.Br(),\n",
    "    html.Label('Output:'),\n",
    "    html.Br(),\n",
    "    dcc.Input(id='number-out', value=2, style={'fontSize': 24, \n",
    "                                               'width': '50%',  \n",
    "                                               'marginBottom': '20px'}),\n",
    "])\n",
    "\n",
    "@app.callback(Output('number-out', 'value'),\n",
    "                [Input('submit-button', 'n_clicks')],\n",
    "                [State('number-in', 'value')])\n",
    "def update_Output(n_clicks, input_value):\n",
    "    return f'{input_value} - number of clicks: {n_clicks}'\n",
    "\n",
    "app.run_server(debug=True, port=8050)"
   ]
  }
 ],
 "metadata": {
  "kernelspec": {
   "display_name": "ml2024",
   "language": "python",
   "name": "python3"
  },
  "language_info": {
   "codemirror_mode": {
    "name": "ipython",
    "version": 3
   },
   "file_extension": ".py",
   "mimetype": "text/x-python",
   "name": "python",
   "nbconvert_exporter": "python",
   "pygments_lexer": "ipython3",
   "version": "3.9.19"
  }
 },
 "nbformat": 4,
 "nbformat_minor": 2
}
