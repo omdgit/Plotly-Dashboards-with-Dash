{
 "cells": [
  {
   "cell_type": "markdown",
   "metadata": {},
   "source": [
    "# Day Trader Dashboard"
   ]
  },
  {
   "cell_type": "code",
   "execution_count": 1,
   "metadata": {},
   "outputs": [],
   "source": [
    "import dash\n",
    "from dash import dcc, html, Input, Output\n",
    "import pandas as pd\n",
    "import plotly.graph_objects as go\n",
    "import yfinance as yf\n",
    "from newsapi import NewsApiClient \n",
    "import datetime"
   ]
  },
  {
   "cell_type": "code",
   "execution_count": 18,
   "metadata": {},
   "outputs": [
    {
     "name": "stderr",
     "output_type": "stream",
     "text": [
      "[*********************100%%**********************]  1 of 1 completed\n",
      "[*********************100%%**********************]  1 of 1 completed\n",
      "[*********************100%%**********************]  1 of 1 completed\n",
      "[*********************100%%**********************]  1 of 1 completed\n",
      "[*********************100%%**********************]  1 of 1 completed\n",
      "[*********************100%%**********************]  1 of 1 completed\n",
      "[*********************100%%**********************]  1 of 1 completed\n"
     ]
    }
   ],
   "source": [
    "# Define the list of stock symbols you want to include\n",
    "stock_symbols = ['AAPL', 'MSFT', 'GOOGL', 'AMZN', 'TSLA', 'NVDA', '^GSPC']\n",
    "stock_names = {\n",
    "    'AAPL': 'Apple Inc.',\n",
    "    'MSFT': 'Microsoft Corporation',\n",
    "    'GOOGL': 'Alphabet Inc.',\n",
    "    'AMZN': 'Amazon.com, Inc.',\n",
    "    'TSLA': 'Tesla, Inc.',\n",
    "    'NVDA': 'NVIDIA Corporation',\n",
    "    '^GSPC': 'S&P 500 Index'\n",
    "}\n",
    "\n",
    "# Fetch stock data using yfinance\n",
    "def fetch_stock_data(symbols):\n",
    "    data = {}\n",
    "    end_date = datetime.date.today().strftime('%Y-%m-%d')\n",
    "    for symbol in symbols:\n",
    "        stock_data = yf.download(symbol, start='2020-01-01', end=end_date)\n",
    "        stock_data['Symbol'] = symbol\n",
    "        data[symbol] = stock_data\n",
    "    return pd.concat(data.values())\n",
    "\n",
    "# Load stock data\n",
    "df = fetch_stock_data(stock_symbols)\n",
    "df.reset_index(inplace=True)"
   ]
  },
  {
   "cell_type": "code",
   "execution_count": 19,
   "metadata": {},
   "outputs": [
    {
     "name": "stdout",
     "output_type": "stream",
     "text": [
      "API Key: api_key loaded\n"
     ]
    }
   ],
   "source": [
    "# Specify the file path\n",
    "file_path = '/Users/oliverdreger/Documents/MyAPIs/api_key_newsapi.txt'\n",
    "\n",
    "# Read the API key from the file\n",
    "try:\n",
    "    with open(file_path, 'r') as file:\n",
    "        # Read the first line of the file (assuming the API key is on the first line)\n",
    "        api_key = file.readline().strip()  # Use strip() to remove any leading/trailing whitespace\n",
    "\n",
    "    # Print the API key (for debugging purposes; remove or comment out in production)\n",
    "    print(f\"API Key: api_key loaded\")\n",
    "\n",
    "except FileNotFoundError:\n",
    "    print(f\"Error: The file at {file_path} was not found.\")\n",
    "except Exception as e:\n",
    "    print(f\"An error occurred: {e}\")\n",
    "\n",
    "# Initialize the News API client\n",
    "api = NewsApiClient(api_key=api_key)"
   ]
  },
  {
   "cell_type": "code",
   "execution_count": 20,
   "metadata": {},
   "outputs": [
    {
     "data": {
      "text/html": [
       "\n",
       "        <iframe\n",
       "            width=\"100%\"\n",
       "            height=\"650\"\n",
       "            src=\"http://127.0.0.1:8050/\"\n",
       "            frameborder=\"0\"\n",
       "            allowfullscreen\n",
       "            \n",
       "        ></iframe>\n",
       "        "
      ],
      "text/plain": [
       "<IPython.lib.display.IFrame at 0x168ae0e50>"
      ]
     },
     "metadata": {},
     "output_type": "display_data"
    }
   ],
   "source": [
    "# Initialize the Dash app\n",
    "app = dash.Dash(__name__)\n",
    "\n",
    "# Define the app layout\n",
    "app.layout = html.Div([\n",
    "    html.H1('Day Trader Dashboard'),\n",
    "    dcc.Dropdown(\n",
    "        id='stock-symbol',\n",
    "        options=[{'label': symbol, 'value': symbol} for symbol in stock_symbols],\n",
    "        value=stock_symbols[0]\n",
    "    ),\n",
    "    html.H2(id='stock-name'),\n",
    "    dcc.DatePickerRange(\n",
    "        id='date-picker',\n",
    "        start_date=df['Date'].min(),\n",
    "        end_date=df['Date'].max(),\n",
    "        display_format='YYYY-MM-DD'\n",
    "    ),\n",
    "    dcc.Graph(id='stock-graph'),\n",
    "    html.H2('Recent News'),\n",
    "    html.Div(id='news-list')\n",
    "])\n",
    "\n",
    "# Define the callback to update the graph, news, and stock name\n",
    "@app.callback(\n",
    "    [Output('stock-graph', 'figure'),\n",
    "     Output('news-list', 'children'),\n",
    "     Output('stock-name', 'children')],\n",
    "    [Input('stock-symbol', 'value'),\n",
    "     Input('date-picker', 'start_date'),\n",
    "     Input('date-picker', 'end_date')]\n",
    ")\n",
    "def update_graph_and_news(selected_symbol, start_date, end_date):\n",
    "    # Update the stock graph\n",
    "    filtered_df = df[(df['Symbol'] == selected_symbol) & \n",
    "                     (df['Date'] >= start_date) & \n",
    "                     (df['Date'] <= end_date)]\n",
    "    \n",
    "    fig = go.Figure(data=[go.Candlestick(\n",
    "        x=filtered_df['Date'],\n",
    "        open=filtered_df['Open'],\n",
    "        high=filtered_df['High'],\n",
    "        low=filtered_df['Low'],\n",
    "        close=filtered_df['Close'],\n",
    "        name=selected_symbol\n",
    "    )])\n",
    "    \n",
    "    fig.update_layout(\n",
    "        title=f'Stock Price Data for {selected_symbol}',\n",
    "        xaxis_title='Date',\n",
    "        yaxis_title='Price',\n",
    "        xaxis_rangeslider_visible=False\n",
    "    )\n",
    "    \n",
    "    # Fetch recent news articles\n",
    "    query = \"S&P 500\" if selected_symbol == \"^GSPC\" else selected_symbol\n",
    "    news = api.get_everything(q=query, language='en', sort_by='publishedAt', page_size=5)\n",
    "    news_items = []\n",
    "    for article in news['articles']:\n",
    "        news_items.append(html.Div([\n",
    "            html.H3(html.A(article['title'], href=article['url'], target='_blank')),\n",
    "            html.P(article['description']),\n",
    "            html.P(f\"Source: {article['source']['name']}\"),\n",
    "            html.P(f\"Published at: {article['publishedAt']}\")\n",
    "        ]))\n",
    "    \n",
    "    # Get the descriptive name for the selected stock\n",
    "    stock_name = stock_names.get(selected_symbol, \"Unknown Stock\")\n",
    "    \n",
    "    return fig, news_items, stock_name\n",
    "\n",
    "# Run the app\n",
    "app.run(debug=True)"
   ]
  },
  {
   "cell_type": "code",
   "execution_count": null,
   "metadata": {},
   "outputs": [],
   "source": []
  }
 ],
 "metadata": {
  "kernelspec": {
   "display_name": "ml2024",
   "language": "python",
   "name": "python3"
  },
  "language_info": {
   "codemirror_mode": {
    "name": "ipython",
    "version": 3
   },
   "file_extension": ".py",
   "mimetype": "text/x-python",
   "name": "python",
   "nbconvert_exporter": "python",
   "pygments_lexer": "ipython3",
   "version": "3.9.19"
  }
 },
 "nbformat": 4,
 "nbformat_minor": 2
}
