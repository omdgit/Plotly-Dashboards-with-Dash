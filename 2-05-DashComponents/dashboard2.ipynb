{
 "cells": [
  {
   "cell_type": "code",
   "execution_count": 41,
   "metadata": {},
   "outputs": [],
   "source": [
    "import plotly.offline as pyo \n",
    "import plotly.graph_objs as go \n",
    "from plotly import tools\n",
    "from plotly.subplots import make_subplots\n",
    "\n",
    "import dash\n",
    "from dash import html, dcc, dash_table, callback, Output, Input\n",
    "\n",
    "import pandas as pd \n",
    "import sys \n",
    "\n",
    "sys.path.append('../')\n",
    "\n",
    "import omdutils as omd\n",
    "\n",
    "pd.options.display.max_columns = 999"
   ]
  },
  {
   "cell_type": "code",
   "execution_count": 2,
   "metadata": {},
   "outputs": [
    {
     "data": {
      "text/html": [
       "<div>\n",
       "<style scoped>\n",
       "    .dataframe tbody tr th:only-of-type {\n",
       "        vertical-align: middle;\n",
       "    }\n",
       "\n",
       "    .dataframe tbody tr th {\n",
       "        vertical-align: top;\n",
       "    }\n",
       "\n",
       "    .dataframe thead th {\n",
       "        text-align: right;\n",
       "    }\n",
       "</style>\n",
       "<table border=\"1\" class=\"dataframe\">\n",
       "  <thead>\n",
       "    <tr style=\"text-align: right;\">\n",
       "      <th></th>\n",
       "      <th>D</th>\n",
       "      <th>Y</th>\n",
       "      <th>X</th>\n",
       "    </tr>\n",
       "  </thead>\n",
       "  <tbody>\n",
       "    <tr>\n",
       "      <th>0</th>\n",
       "      <td>1</td>\n",
       "      <td>78</td>\n",
       "      <td>4.4</td>\n",
       "    </tr>\n",
       "    <tr>\n",
       "      <th>1</th>\n",
       "      <td>1</td>\n",
       "      <td>74</td>\n",
       "      <td>3.9</td>\n",
       "    </tr>\n",
       "    <tr>\n",
       "      <th>2</th>\n",
       "      <td>1</td>\n",
       "      <td>68</td>\n",
       "      <td>4.0</td>\n",
       "    </tr>\n",
       "    <tr>\n",
       "      <th>3</th>\n",
       "      <td>1</td>\n",
       "      <td>76</td>\n",
       "      <td>4.0</td>\n",
       "    </tr>\n",
       "    <tr>\n",
       "      <th>4</th>\n",
       "      <td>1</td>\n",
       "      <td>80</td>\n",
       "      <td>3.5</td>\n",
       "    </tr>\n",
       "  </tbody>\n",
       "</table>\n",
       "</div>"
      ],
      "text/plain": [
       "   D   Y    X\n",
       "0  1  78  4.4\n",
       "1  1  74  3.9\n",
       "2  1  68  4.0\n",
       "3  1  76  4.0\n",
       "4  1  80  3.5"
      ]
     },
     "execution_count": 2,
     "metadata": {},
     "output_type": "execute_result"
    }
   ],
   "source": [
    "# df = pd.read_csv('../Data/OldFaithful.csv')\n",
    "# omd.to_sqlite(df, 'OldFaithful', '../SourceData/datasets.db')\n",
    "sql = 'SELECT * FROM OldFaithful'\n",
    "db = '../SourceData/datasets.db'\n",
    "df = omd.from_sqlite(sql, db)\n",
    "df.head()"
   ]
  },
  {
   "cell_type": "code",
   "execution_count": 3,
   "metadata": {},
   "outputs": [
    {
     "data": {
      "application/vnd.plotly.v1+json": {
       "config": {
        "plotlyServerURL": "https://plot.ly"
       },
       "data": [
        {
         "mode": "markers",
         "name": "Old Faithful Eruptions",
         "type": "scatter",
         "x": [
          4.4,
          3.9,
          4,
          4,
          3.5,
          4.1,
          2.3,
          4.7,
          1.7,
          4.9,
          1.7,
          4.6,
          3.4,
          4.3,
          1.7,
          3.9,
          3.7,
          3.1,
          4,
          1.8,
          4.1,
          1.8,
          3.2,
          1.9,
          4.6,
          2,
          4.5,
          3.9,
          4.3,
          2.3,
          3.8,
          1.9,
          4.6,
          1.8,
          4.7,
          1.8,
          4.6,
          1.9,
          3.5,
          4,
          3.7,
          3.7,
          4.3,
          3.6,
          3.8,
          3.8,
          3.8,
          2.5,
          4.5,
          4.1,
          3.7,
          3.8,
          3.4,
          4,
          2.3,
          4.4,
          4.1,
          4.3,
          3.3,
          2,
          4.3,
          2.9,
          4.6,
          1.9,
          3.6,
          3.7,
          3.7,
          1.8,
          4.6,
          3.5,
          4,
          3.7,
          1.7,
          4.6,
          1.7,
          4,
          1.8,
          4.4,
          1.9,
          4.6,
          2.9,
          3.5,
          2,
          4.3,
          1.8,
          4.1,
          1.8,
          4.7,
          4.2,
          3.9,
          4.3,
          1.8,
          4.5,
          2,
          4.2,
          4.4,
          4.1,
          4.1,
          4,
          4.1,
          2.7,
          4.6,
          1.9,
          4.5,
          2,
          4.8,
          4.1,
          4.1,
          4.2,
          4.5,
          1.9,
          4.7,
          2,
          4.7,
          2.5,
          4.3,
          4.4,
          4.4,
          4.3,
          4.6,
          2.1,
          4.8,
          4.1,
          4,
          4,
          4.4,
          4.1,
          4.3,
          4,
          3.9,
          3.2,
          4.5,
          2.2,
          4.7,
          4.6,
          2.2,
          4.8,
          4.3,
          3.8,
          4,
          4.1,
          1.8,
          4.4,
          4,
          2.2,
          5.1,
          1.9,
          5,
          4.4,
          4.5,
          3.8,
          4.3,
          4.4,
          2.2,
          4.8,
          1.9,
          4.7,
          1.8,
          4.8,
          2,
          4.4,
          2.5,
          4.3,
          4.4,
          1.9,
          4.7,
          4.3,
          2.2,
          4.7,
          2.3,
          4.6,
          3.3,
          4.2,
          2.9,
          4.6,
          3.3,
          4.2,
          2.6,
          4.6,
          3.7,
          1.8,
          4.7,
          4.5,
          4.5,
          4.8,
          2,
          4.8,
          1.9,
          4.7,
          2,
          5.1,
          4.3,
          4.8,
          3,
          2.1,
          4.6,
          4,
          2.2,
          5.1,
          2.9,
          4.3,
          2.1,
          4.7,
          4.5,
          1.7,
          4.2,
          4.3,
          1.7,
          4.4,
          4.2,
          2.2,
          4.7,
          4,
          1.8,
          4.7,
          1.8,
          4.5,
          2.1,
          4.2,
          2.1,
          5.2,
          2
         ],
         "y": [
          78,
          74,
          68,
          76,
          80,
          84,
          50,
          93,
          55,
          76,
          58,
          74,
          75,
          80,
          56,
          80,
          69,
          57,
          90,
          42,
          91,
          51,
          79,
          53,
          82,
          51,
          76,
          82,
          84,
          53,
          86,
          51,
          85,
          45,
          88,
          51,
          80,
          49,
          82,
          75,
          73,
          67,
          68,
          86,
          72,
          75,
          75,
          66,
          84,
          70,
          79,
          60,
          86,
          71,
          67,
          81,
          76,
          83,
          76,
          55,
          73,
          56,
          83,
          57,
          71,
          72,
          77,
          55,
          75,
          73,
          70,
          83,
          50,
          95,
          51,
          82,
          54,
          83,
          51,
          80,
          78,
          81,
          53,
          89,
          44,
          78,
          61,
          73,
          75,
          73,
          76,
          55,
          86,
          48,
          77,
          73,
          70,
          88,
          75,
          83,
          61,
          78,
          61,
          81,
          51,
          80,
          79,
          82,
          80,
          76,
          56,
          82,
          47,
          76,
          61,
          75,
          72,
          74,
          69,
          78,
          52,
          91,
          66,
          71,
          75,
          81,
          77,
          74,
          70,
          83,
          53,
          82,
          62,
          73,
          84,
          58,
          82,
          77,
          75,
          77,
          77,
          53,
          75,
          78,
          51,
          81,
          52,
          76,
          73,
          84,
          72,
          89,
          75,
          57,
          81,
          49,
          87,
          43,
          94,
          45,
          81,
          59,
          82,
          80,
          54,
          75,
          73,
          57,
          80,
          51,
          77,
          66,
          77,
          60,
          86,
          62,
          75,
          67,
          69,
          84,
          58,
          90,
          82,
          71,
          80,
          51,
          80,
          62,
          84,
          51,
          81,
          83,
          84,
          72,
          54,
          75,
          74,
          51,
          91,
          60,
          80,
          54,
          80,
          70,
          60,
          86,
          78,
          51,
          83,
          76,
          51,
          90,
          71,
          49,
          88,
          52,
          79,
          61,
          81,
          48,
          84,
          63
         ]
        }
       ],
       "layout": {
        "template": {
         "data": {
          "bar": [
           {
            "error_x": {
             "color": "#2a3f5f"
            },
            "error_y": {
             "color": "#2a3f5f"
            },
            "marker": {
             "line": {
              "color": "#E5ECF6",
              "width": 0.5
             },
             "pattern": {
              "fillmode": "overlay",
              "size": 10,
              "solidity": 0.2
             }
            },
            "type": "bar"
           }
          ],
          "barpolar": [
           {
            "marker": {
             "line": {
              "color": "#E5ECF6",
              "width": 0.5
             },
             "pattern": {
              "fillmode": "overlay",
              "size": 10,
              "solidity": 0.2
             }
            },
            "type": "barpolar"
           }
          ],
          "carpet": [
           {
            "aaxis": {
             "endlinecolor": "#2a3f5f",
             "gridcolor": "white",
             "linecolor": "white",
             "minorgridcolor": "white",
             "startlinecolor": "#2a3f5f"
            },
            "baxis": {
             "endlinecolor": "#2a3f5f",
             "gridcolor": "white",
             "linecolor": "white",
             "minorgridcolor": "white",
             "startlinecolor": "#2a3f5f"
            },
            "type": "carpet"
           }
          ],
          "choropleth": [
           {
            "colorbar": {
             "outlinewidth": 0,
             "ticks": ""
            },
            "type": "choropleth"
           }
          ],
          "contour": [
           {
            "colorbar": {
             "outlinewidth": 0,
             "ticks": ""
            },
            "colorscale": [
             [
              0,
              "#0d0887"
             ],
             [
              0.1111111111111111,
              "#46039f"
             ],
             [
              0.2222222222222222,
              "#7201a8"
             ],
             [
              0.3333333333333333,
              "#9c179e"
             ],
             [
              0.4444444444444444,
              "#bd3786"
             ],
             [
              0.5555555555555556,
              "#d8576b"
             ],
             [
              0.6666666666666666,
              "#ed7953"
             ],
             [
              0.7777777777777778,
              "#fb9f3a"
             ],
             [
              0.8888888888888888,
              "#fdca26"
             ],
             [
              1,
              "#f0f921"
             ]
            ],
            "type": "contour"
           }
          ],
          "contourcarpet": [
           {
            "colorbar": {
             "outlinewidth": 0,
             "ticks": ""
            },
            "type": "contourcarpet"
           }
          ],
          "heatmap": [
           {
            "colorbar": {
             "outlinewidth": 0,
             "ticks": ""
            },
            "colorscale": [
             [
              0,
              "#0d0887"
             ],
             [
              0.1111111111111111,
              "#46039f"
             ],
             [
              0.2222222222222222,
              "#7201a8"
             ],
             [
              0.3333333333333333,
              "#9c179e"
             ],
             [
              0.4444444444444444,
              "#bd3786"
             ],
             [
              0.5555555555555556,
              "#d8576b"
             ],
             [
              0.6666666666666666,
              "#ed7953"
             ],
             [
              0.7777777777777778,
              "#fb9f3a"
             ],
             [
              0.8888888888888888,
              "#fdca26"
             ],
             [
              1,
              "#f0f921"
             ]
            ],
            "type": "heatmap"
           }
          ],
          "heatmapgl": [
           {
            "colorbar": {
             "outlinewidth": 0,
             "ticks": ""
            },
            "colorscale": [
             [
              0,
              "#0d0887"
             ],
             [
              0.1111111111111111,
              "#46039f"
             ],
             [
              0.2222222222222222,
              "#7201a8"
             ],
             [
              0.3333333333333333,
              "#9c179e"
             ],
             [
              0.4444444444444444,
              "#bd3786"
             ],
             [
              0.5555555555555556,
              "#d8576b"
             ],
             [
              0.6666666666666666,
              "#ed7953"
             ],
             [
              0.7777777777777778,
              "#fb9f3a"
             ],
             [
              0.8888888888888888,
              "#fdca26"
             ],
             [
              1,
              "#f0f921"
             ]
            ],
            "type": "heatmapgl"
           }
          ],
          "histogram": [
           {
            "marker": {
             "pattern": {
              "fillmode": "overlay",
              "size": 10,
              "solidity": 0.2
             }
            },
            "type": "histogram"
           }
          ],
          "histogram2d": [
           {
            "colorbar": {
             "outlinewidth": 0,
             "ticks": ""
            },
            "colorscale": [
             [
              0,
              "#0d0887"
             ],
             [
              0.1111111111111111,
              "#46039f"
             ],
             [
              0.2222222222222222,
              "#7201a8"
             ],
             [
              0.3333333333333333,
              "#9c179e"
             ],
             [
              0.4444444444444444,
              "#bd3786"
             ],
             [
              0.5555555555555556,
              "#d8576b"
             ],
             [
              0.6666666666666666,
              "#ed7953"
             ],
             [
              0.7777777777777778,
              "#fb9f3a"
             ],
             [
              0.8888888888888888,
              "#fdca26"
             ],
             [
              1,
              "#f0f921"
             ]
            ],
            "type": "histogram2d"
           }
          ],
          "histogram2dcontour": [
           {
            "colorbar": {
             "outlinewidth": 0,
             "ticks": ""
            },
            "colorscale": [
             [
              0,
              "#0d0887"
             ],
             [
              0.1111111111111111,
              "#46039f"
             ],
             [
              0.2222222222222222,
              "#7201a8"
             ],
             [
              0.3333333333333333,
              "#9c179e"
             ],
             [
              0.4444444444444444,
              "#bd3786"
             ],
             [
              0.5555555555555556,
              "#d8576b"
             ],
             [
              0.6666666666666666,
              "#ed7953"
             ],
             [
              0.7777777777777778,
              "#fb9f3a"
             ],
             [
              0.8888888888888888,
              "#fdca26"
             ],
             [
              1,
              "#f0f921"
             ]
            ],
            "type": "histogram2dcontour"
           }
          ],
          "mesh3d": [
           {
            "colorbar": {
             "outlinewidth": 0,
             "ticks": ""
            },
            "type": "mesh3d"
           }
          ],
          "parcoords": [
           {
            "line": {
             "colorbar": {
              "outlinewidth": 0,
              "ticks": ""
             }
            },
            "type": "parcoords"
           }
          ],
          "pie": [
           {
            "automargin": true,
            "type": "pie"
           }
          ],
          "scatter": [
           {
            "fillpattern": {
             "fillmode": "overlay",
             "size": 10,
             "solidity": 0.2
            },
            "type": "scatter"
           }
          ],
          "scatter3d": [
           {
            "line": {
             "colorbar": {
              "outlinewidth": 0,
              "ticks": ""
             }
            },
            "marker": {
             "colorbar": {
              "outlinewidth": 0,
              "ticks": ""
             }
            },
            "type": "scatter3d"
           }
          ],
          "scattercarpet": [
           {
            "marker": {
             "colorbar": {
              "outlinewidth": 0,
              "ticks": ""
             }
            },
            "type": "scattercarpet"
           }
          ],
          "scattergeo": [
           {
            "marker": {
             "colorbar": {
              "outlinewidth": 0,
              "ticks": ""
             }
            },
            "type": "scattergeo"
           }
          ],
          "scattergl": [
           {
            "marker": {
             "colorbar": {
              "outlinewidth": 0,
              "ticks": ""
             }
            },
            "type": "scattergl"
           }
          ],
          "scattermapbox": [
           {
            "marker": {
             "colorbar": {
              "outlinewidth": 0,
              "ticks": ""
             }
            },
            "type": "scattermapbox"
           }
          ],
          "scatterpolar": [
           {
            "marker": {
             "colorbar": {
              "outlinewidth": 0,
              "ticks": ""
             }
            },
            "type": "scatterpolar"
           }
          ],
          "scatterpolargl": [
           {
            "marker": {
             "colorbar": {
              "outlinewidth": 0,
              "ticks": ""
             }
            },
            "type": "scatterpolargl"
           }
          ],
          "scatterternary": [
           {
            "marker": {
             "colorbar": {
              "outlinewidth": 0,
              "ticks": ""
             }
            },
            "type": "scatterternary"
           }
          ],
          "surface": [
           {
            "colorbar": {
             "outlinewidth": 0,
             "ticks": ""
            },
            "colorscale": [
             [
              0,
              "#0d0887"
             ],
             [
              0.1111111111111111,
              "#46039f"
             ],
             [
              0.2222222222222222,
              "#7201a8"
             ],
             [
              0.3333333333333333,
              "#9c179e"
             ],
             [
              0.4444444444444444,
              "#bd3786"
             ],
             [
              0.5555555555555556,
              "#d8576b"
             ],
             [
              0.6666666666666666,
              "#ed7953"
             ],
             [
              0.7777777777777778,
              "#fb9f3a"
             ],
             [
              0.8888888888888888,
              "#fdca26"
             ],
             [
              1,
              "#f0f921"
             ]
            ],
            "type": "surface"
           }
          ],
          "table": [
           {
            "cells": {
             "fill": {
              "color": "#EBF0F8"
             },
             "line": {
              "color": "white"
             }
            },
            "header": {
             "fill": {
              "color": "#C8D4E3"
             },
             "line": {
              "color": "white"
             }
            },
            "type": "table"
           }
          ]
         },
         "layout": {
          "annotationdefaults": {
           "arrowcolor": "#2a3f5f",
           "arrowhead": 0,
           "arrowwidth": 1
          },
          "autotypenumbers": "strict",
          "coloraxis": {
           "colorbar": {
            "outlinewidth": 0,
            "ticks": ""
           }
          },
          "colorscale": {
           "diverging": [
            [
             0,
             "#8e0152"
            ],
            [
             0.1,
             "#c51b7d"
            ],
            [
             0.2,
             "#de77ae"
            ],
            [
             0.3,
             "#f1b6da"
            ],
            [
             0.4,
             "#fde0ef"
            ],
            [
             0.5,
             "#f7f7f7"
            ],
            [
             0.6,
             "#e6f5d0"
            ],
            [
             0.7,
             "#b8e186"
            ],
            [
             0.8,
             "#7fbc41"
            ],
            [
             0.9,
             "#4d9221"
            ],
            [
             1,
             "#276419"
            ]
           ],
           "sequential": [
            [
             0,
             "#0d0887"
            ],
            [
             0.1111111111111111,
             "#46039f"
            ],
            [
             0.2222222222222222,
             "#7201a8"
            ],
            [
             0.3333333333333333,
             "#9c179e"
            ],
            [
             0.4444444444444444,
             "#bd3786"
            ],
            [
             0.5555555555555556,
             "#d8576b"
            ],
            [
             0.6666666666666666,
             "#ed7953"
            ],
            [
             0.7777777777777778,
             "#fb9f3a"
            ],
            [
             0.8888888888888888,
             "#fdca26"
            ],
            [
             1,
             "#f0f921"
            ]
           ],
           "sequentialminus": [
            [
             0,
             "#0d0887"
            ],
            [
             0.1111111111111111,
             "#46039f"
            ],
            [
             0.2222222222222222,
             "#7201a8"
            ],
            [
             0.3333333333333333,
             "#9c179e"
            ],
            [
             0.4444444444444444,
             "#bd3786"
            ],
            [
             0.5555555555555556,
             "#d8576b"
            ],
            [
             0.6666666666666666,
             "#ed7953"
            ],
            [
             0.7777777777777778,
             "#fb9f3a"
            ],
            [
             0.8888888888888888,
             "#fdca26"
            ],
            [
             1,
             "#f0f921"
            ]
           ]
          },
          "colorway": [
           "#636efa",
           "#EF553B",
           "#00cc96",
           "#ab63fa",
           "#FFA15A",
           "#19d3f3",
           "#FF6692",
           "#B6E880",
           "#FF97FF",
           "#FECB52"
          ],
          "font": {
           "color": "#2a3f5f"
          },
          "geo": {
           "bgcolor": "white",
           "lakecolor": "white",
           "landcolor": "#E5ECF6",
           "showlakes": true,
           "showland": true,
           "subunitcolor": "white"
          },
          "hoverlabel": {
           "align": "left"
          },
          "hovermode": "closest",
          "mapbox": {
           "style": "light"
          },
          "paper_bgcolor": "white",
          "plot_bgcolor": "#E5ECF6",
          "polar": {
           "angularaxis": {
            "gridcolor": "white",
            "linecolor": "white",
            "ticks": ""
           },
           "bgcolor": "#E5ECF6",
           "radialaxis": {
            "gridcolor": "white",
            "linecolor": "white",
            "ticks": ""
           }
          },
          "scene": {
           "xaxis": {
            "backgroundcolor": "#E5ECF6",
            "gridcolor": "white",
            "gridwidth": 2,
            "linecolor": "white",
            "showbackground": true,
            "ticks": "",
            "zerolinecolor": "white"
           },
           "yaxis": {
            "backgroundcolor": "#E5ECF6",
            "gridcolor": "white",
            "gridwidth": 2,
            "linecolor": "white",
            "showbackground": true,
            "ticks": "",
            "zerolinecolor": "white"
           },
           "zaxis": {
            "backgroundcolor": "#E5ECF6",
            "gridcolor": "white",
            "gridwidth": 2,
            "linecolor": "white",
            "showbackground": true,
            "ticks": "",
            "zerolinecolor": "white"
           }
          },
          "shapedefaults": {
           "line": {
            "color": "#2a3f5f"
           }
          },
          "ternary": {
           "aaxis": {
            "gridcolor": "white",
            "linecolor": "white",
            "ticks": ""
           },
           "baxis": {
            "gridcolor": "white",
            "linecolor": "white",
            "ticks": ""
           },
           "bgcolor": "#E5ECF6",
           "caxis": {
            "gridcolor": "white",
            "linecolor": "white",
            "ticks": ""
           }
          },
          "title": {
           "x": 0.05
          },
          "xaxis": {
           "automargin": true,
           "gridcolor": "white",
           "linecolor": "white",
           "ticks": "",
           "title": {
            "standoff": 15
           },
           "zerolinecolor": "white",
           "zerolinewidth": 2
          },
          "yaxis": {
           "automargin": true,
           "gridcolor": "white",
           "linecolor": "white",
           "ticks": "",
           "title": {
            "standoff": 15
           },
           "zerolinecolor": "white",
           "zerolinewidth": 2
          }
         }
        },
        "title": {
         "text": "Old Faithful Eruptions",
         "x": 0.5
        },
        "xaxis": {
         "title": {
          "text": "Duration"
         }
        },
        "yaxis": {
         "title": {
          "text": "Interval"
         }
        }
       }
      }
     },
     "metadata": {},
     "output_type": "display_data"
    }
   ],
   "source": [
    "data = [go.Scatter(x=df['X'], y=df['Y'], mode='markers', name='Old Faithful Eruptions')]    \n",
    "layout = go.Layout(title='Old Faithful Eruptions', title_x=0.5, xaxis_title='Duration', yaxis_title='Interval')\n",
    "fig = go.Figure(data=data, layout=layout)\n",
    "fig.show()"
   ]
  },
  {
   "cell_type": "code",
   "execution_count": 57,
   "metadata": {},
   "outputs": [],
   "source": [
    "eruption1 = 35\n",
    "eruption1_f = f'{eruption1:.1f}'\n",
    "eruption2 = 120\n",
    "eruption2_f = f'{eruption2:.1f}'"
   ]
  },
  {
   "cell_type": "code",
   "execution_count": 58,
   "metadata": {},
   "outputs": [
    {
     "data": {
      "text/html": [
       "\n",
       "        <iframe\n",
       "            width=\"100%\"\n",
       "            height=\"650\"\n",
       "            src=\"http://127.0.0.1:8050/\"\n",
       "            frameborder=\"0\"\n",
       "            allowfullscreen\n",
       "            \n",
       "        ></iframe>\n",
       "        "
      ],
      "text/plain": [
       "<IPython.lib.display.IFrame at 0x16c339250>"
      ]
     },
     "metadata": {},
     "output_type": "display_data"
    }
   ],
   "source": [
    "app = dash.Dash(__name__)\n",
    "\n",
    "app.layout = html.Div(children=[\n",
    "    html.Div(\n",
    "        children='Eruption times of the Old Faithful geyser',\n",
    "        style={'textAlign': 'center', 'color': '#111111', 'fontSize': 40},\n",
    "        className='h1'\n",
    "    ),\n",
    "    html.Div(\n",
    "        children='This is a simple dashboard',\n",
    "        style={'textAlign': 'center', 'color': '#111111', 'fontSize': 30},\n",
    "        className='h2'\n",
    "    ),\n",
    "    html.Div(\n",
    "        children=[\n",
    "            html.H3('Dashboard Information'),\n",
    "            html.Table([\n",
    "                html.Tr([\n",
    "                    html.Td(\n",
    "                        dcc.Markdown(f'''\n",
    "                            ### This dashboard visualizes the duration times of the Old Faithful geyser by interval time.\n",
    "\n",
    "                            **Eruption Details**:\n",
    "\n",
    "                            - **Interval Between Eruptions**: Typically {eruption1_f} to {eruption2_f} minutes, averaging around 90 minutes.\n",
    "                            - **Eruption Duration**: Lasts between 1.5 to 5 minutes.\n",
    "                            - **Height of Eruptions**: Water can reach 106 to 185 feet (32 to 56 meters).\n",
    "                            - **Factors Affecting Eruptions**: Seismic activity, seasonal changes, and water supply.\n",
    "\n",
    "                            For real-time predictions, check the National Park Service's [Old Faithful Geyser predictions](https://www.nps.gov/yell/learn/photosmultimedia/webcams.htm).\n",
    "                        '''),\n",
    "                        style={'width': '70%', 'verticalAlign': 'top', 'paddingRight': '20px'}\n",
    "                    ),\n",
    "                    html.Td(\n",
    "                        html.Img(\n",
    "                            src='/assets/old_faithful.jpeg',  # Update this path as necessary\n",
    "                            style={\n",
    "                                'width': '100%',  # Set the width of the image\n",
    "                                'borderRadius': '5px'  # Optional: Add rounded corners to the image\n",
    "                            }\n",
    "                        ),\n",
    "                        style={'width': '30%'}\n",
    "                    )\n",
    "                ])\n",
    "            ]),\n",
    "        ],\n",
    "        style={\n",
    "            'backgroundColor': '#f0f0f0',  # Change this to your desired background color\n",
    "            'padding': '20px',  # Add padding for better layout\n",
    "            'borderRadius': '5px',  # Optional: Add rounded corners\n",
    "            'boxShadow': '2px 2px 5px rgba(0, 0, 0, 0.1)'  # Optional: Add a subtle shadow\n",
    "        }\n",
    "    ),\n",
    "    dcc.Graph(figure=fig),\n",
    "    dash_table.DataTable(data=df.to_dict('records'), page_size=10)\n",
    "])\n",
    "\n",
    "# Run the app\n",
    "# if __name__ == '__main__':\n",
    "app.run(debug=True)"
   ]
  },
  {
   "cell_type": "code",
   "execution_count": null,
   "metadata": {},
   "outputs": [],
   "source": []
  }
 ],
 "metadata": {
  "kernelspec": {
   "display_name": "ml2024",
   "language": "python",
   "name": "python3"
  },
  "language_info": {
   "codemirror_mode": {
    "name": "ipython",
    "version": 3
   },
   "file_extension": ".py",
   "mimetype": "text/x-python",
   "name": "python",
   "nbconvert_exporter": "python",
   "pygments_lexer": "ipython3",
   "version": "3.9.19"
  }
 },
 "nbformat": 4,
 "nbformat_minor": 2
}
