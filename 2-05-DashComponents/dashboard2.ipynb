{
 "cells": [
  {
   "cell_type": "code",
   "execution_count": 1,
   "metadata": {},
   "outputs": [],
   "source": [
    "import plotly.offline as pyo \n",
    "import plotly.graph_objs as go \n",
    "from plotly import tools\n",
    "from plotly.subplots import make_subplots\n",
    "\n",
    "import dash\n",
    "from dash import html, dcc, dash_table, callback, Output, Input\n",
    "\n",
    "import pandas as pd \n",
    "import sys \n",
    "\n",
    "sys.path.append('../')\n",
    "\n",
    "import omdutils as omd\n",
    "\n",
    "pd.options.display.max_columns = 999"
   ]
  },
  {
   "cell_type": "code",
   "execution_count": 2,
   "metadata": {},
   "outputs": [
    {
     "data": {
      "text/html": [
       "<div>\n",
       "<style scoped>\n",
       "    .dataframe tbody tr th:only-of-type {\n",
       "        vertical-align: middle;\n",
       "    }\n",
       "\n",
       "    .dataframe tbody tr th {\n",
       "        vertical-align: top;\n",
       "    }\n",
       "\n",
       "    .dataframe thead th {\n",
       "        text-align: right;\n",
       "    }\n",
       "</style>\n",
       "<table border=\"1\" class=\"dataframe\">\n",
       "  <thead>\n",
       "    <tr style=\"text-align: right;\">\n",
       "      <th></th>\n",
       "      <th>D</th>\n",
       "      <th>Y</th>\n",
       "      <th>X</th>\n",
       "    </tr>\n",
       "  </thead>\n",
       "  <tbody>\n",
       "    <tr>\n",
       "      <th>0</th>\n",
       "      <td>1</td>\n",
       "      <td>78</td>\n",
       "      <td>4.4</td>\n",
       "    </tr>\n",
       "    <tr>\n",
       "      <th>1</th>\n",
       "      <td>1</td>\n",
       "      <td>74</td>\n",
       "      <td>3.9</td>\n",
       "    </tr>\n",
       "    <tr>\n",
       "      <th>2</th>\n",
       "      <td>1</td>\n",
       "      <td>68</td>\n",
       "      <td>4.0</td>\n",
       "    </tr>\n",
       "    <tr>\n",
       "      <th>3</th>\n",
       "      <td>1</td>\n",
       "      <td>76</td>\n",
       "      <td>4.0</td>\n",
       "    </tr>\n",
       "    <tr>\n",
       "      <th>4</th>\n",
       "      <td>1</td>\n",
       "      <td>80</td>\n",
       "      <td>3.5</td>\n",
       "    </tr>\n",
       "  </tbody>\n",
       "</table>\n",
       "</div>"
      ],
      "text/plain": [
       "   D   Y    X\n",
       "0  1  78  4.4\n",
       "1  1  74  3.9\n",
       "2  1  68  4.0\n",
       "3  1  76  4.0\n",
       "4  1  80  3.5"
      ]
     },
     "execution_count": 2,
     "metadata": {},
     "output_type": "execute_result"
    }
   ],
   "source": [
    "# df = pd.read_csv('../Data/OldFaithful.csv')\n",
    "# omd.to_sqlite(df, 'OldFaithful', '../SourceData/datasets.db')\n",
    "sql = 'SELECT * FROM OldFaithful'\n",
    "db = '../SourceData/datasets.db'\n",
    "df = omd.from_sqlite(sql, db)\n",
    "df.head()"
   ]
  },
  {
   "cell_type": "code",
   "execution_count": 3,
   "metadata": {},
   "outputs": [
    {
     "data": {
      "application/vnd.plotly.v1+json": {
       "config": {
        "plotlyServerURL": "https://plot.ly"
       },
       "data": [
        {
         "mode": "markers",
         "name": "Old Faithful Eruptions",
         "type": "scatter",
         "x": [
          4.4,
          3.9,
          4,
          4,
          3.5,
          4.1,
          2.3,
          4.7,
          1.7,
          4.9,
          1.7,
          4.6,
          3.4,
          4.3,
          1.7,
          3.9,
          3.7,
          3.1,
          4,
          1.8,
          4.1,
          1.8,
          3.2,
          1.9,
          4.6,
          2,
          4.5,
          3.9,
          4.3,
          2.3,
          3.8,
          1.9,
          4.6,
          1.8,
          4.7,
          1.8,
          4.6,
          1.9,
          3.5,
          4,
          3.7,
          3.7,
          4.3,
          3.6,
          3.8,
          3.8,
          3.8,
          2.5,
          4.5,
          4.1,
          3.7,
          3.8,
          3.4,
          4,
          2.3,
          4.4,
          4.1,
          4.3,
          3.3,
          2,
          4.3,
          2.9,
          4.6,
          1.9,
          3.6,
          3.7,
          3.7,
          1.8,
          4.6,
          3.5,
          4,
          3.7,
          1.7,
          4.6,
          1.7,
          4,
          1.8,
          4.4,
          1.9,
          4.6,
          2.9,
          3.5,
          2,
          4.3,
          1.8,
          4.1,
          1.8,
          4.7,
          4.2,
          3.9,
          4.3,
          1.8,
          4.5,
          2,
          4.2,
          4.4,
          4.1,
          4.1,
          4,
          4.1,
          2.7,
          4.6,
          1.9,
          4.5,
          2,
          4.8,
          4.1,
          4.1,
          4.2,
          4.5,
          1.9,
          4.7,
          2,
          4.7,
          2.5,
          4.3,
          4.4,
          4.4,
          4.3,
          4.6,
          2.1,
          4.8,
          4.1,
          4,
          4,
          4.4,
          4.1,
          4.3,
          4,
          3.9,
          3.2,
          4.5,
          2.2,
          4.7,
          4.6,
          2.2,
          4.8,
          4.3,
          3.8,
          4,
          4.1,
          1.8,
          4.4,
          4,
          2.2,
          5.1,
          1.9,
          5,
          4.4,
          4.5,
          3.8,
          4.3,
          4.4,
          2.2,
          4.8,
          1.9,
          4.7,
          1.8,
          4.8,
          2,
          4.4,
          2.5,
          4.3,
          4.4,
          1.9,
          4.7,
          4.3,
          2.2,
          4.7,
          2.3,
          4.6,
          3.3,
          4.2,
          2.9,
          4.6,
          3.3,
          4.2,
          2.6,
          4.6,
          3.7,
          1.8,
          4.7,
          4.5,
          4.5,
          4.8,
          2,
          4.8,
          1.9,
          4.7,
          2,
          5.1,
          4.3,
          4.8,
          3,
          2.1,
          4.6,
          4,
          2.2,
          5.1,
          2.9,
          4.3,
          2.1,
          4.7,
          4.5,
          1.7,
          4.2,
          4.3,
          1.7,
          4.4,
          4.2,
          2.2,
          4.7,
          4,
          1.8,
          4.7,
          1.8,
          4.5,
          2.1,
          4.2,
          2.1,
          5.2,
          2
         ],
         "y": [
          78,
          74,
          68,
          76,
          80,
          84,
          50,
          93,
          55,
          76,
          58,
          74,
          75,
          80,
          56,
          80,
          69,
          57,
          90,
          42,
          91,
          51,
          79,
          53,
          82,
          51,
          76,
          82,
          84,
          53,
          86,
          51,
          85,
          45,
          88,
          51,
          80,
          49,
          82,
          75,
          73,
          67,
          68,
          86,
          72,
          75,
          75,
          66,
          84,
          70,
          79,
          60,
          86,
          71,
          67,
          81,
          76,
          83,
          76,
          55,
          73,
          56,
          83,
          57,
          71,
          72,
          77,
          55,
          75,
          73,
          70,
          83,
          50,
          95,
          51,
          82,
          54,
          83,
          51,
          80,
          78,
          81,
          53,
          89,
          44,
          78,
          61,
          73,
          75,
          73,
          76,
          55,
          86,
          48,
          77,
          73,
          70,
          88,
          75,
          83,
          61,
          78,
          61,
          81,
          51,
          80,
          79,
          82,
          80,
          76,
          56,
          82,
          47,
          76,
          61,
          75,
          72,
          74,
          69,
          78,
          52,
          91,
          66,
          71,
          75,
          81,
          77,
          74,
          70,
          83,
          53,
          82,
          62,
          73,
          84,
          58,
          82,
          77,
          75,
          77,
          77,
          53,
          75,
          78,
          51,
          81,
          52,
          76,
          73,
          84,
          72,
          89,
          75,
          57,
          81,
          49,
          87,
          43,
          94,
          45,
          81,
          59,
          82,
          80,
          54,
          75,
          73,
          57,
          80,
          51,
          77,
          66,
          77,
          60,
          86,
          62,
          75,
          67,
          69,
          84,
          58,
          90,
          82,
          71,
          80,
          51,
          80,
          62,
          84,
          51,
          81,
          83,
          84,
          72,
          54,
          75,
          74,
          51,
          91,
          60,
          80,
          54,
          80,
          70,
          60,
          86,
          78,
          51,
          83,
          76,
          51,
          90,
          71,
          49,
          88,
          52,
          79,
          61,
          81,
          48,
          84,
          63
         ]
        }
       ],
       "layout": {
        "template": {
         "data": {
          "bar": [
           {
            "error_x": {
             "color": "#2a3f5f"
            },
            "error_y": {
             "color": "#2a3f5f"
            },
            "marker": {
             "line": {
              "color": "#E5ECF6",
              "width": 0.5
             },
             "pattern": {
              "fillmode": "overlay",
              "size": 10,
              "solidity": 0.2
             }
            },
            "type": "bar"
           }
          ],
          "barpolar": [
           {
            "marker": {
             "line": {
              "color": "#E5ECF6",
              "width": 0.5
             },
             "pattern": {
              "fillmode": "overlay",
              "size": 10,
              "solidity": 0.2
             }
            },
            "type": "barpolar"
           }
          ],
          "carpet": [
           {
            "aaxis": {
             "endlinecolor": "#2a3f5f",
             "gridcolor": "white",
             "linecolor": "white",
             "minorgridcolor": "white",
             "startlinecolor": "#2a3f5f"
            },
            "baxis": {
             "endlinecolor": "#2a3f5f",
             "gridcolor": "white",
             "linecolor": "white",
             "minorgridcolor": "white",
             "startlinecolor": "#2a3f5f"
            },
            "type": "carpet"
           }
          ],
          "choropleth": [
           {
            "colorbar": {
             "outlinewidth": 0,
             "ticks": ""
            },
            "type": "choropleth"
           }
          ],
          "contour": [
           {
            "colorbar": {
             "outlinewidth": 0,
             "ticks": ""
            },
            "colorscale": [
             [
              0,
              "#0d0887"
             ],
             [
              0.1111111111111111,
              "#46039f"
             ],
             [
              0.2222222222222222,
              "#7201a8"
             ],
             [
              0.3333333333333333,
              "#9c179e"
             ],
             [
              0.4444444444444444,
              "#bd3786"
             ],
             [
              0.5555555555555556,
              "#d8576b"
             ],
             [
              0.6666666666666666,
              "#ed7953"
             ],
             [
              0.7777777777777778,
              "#fb9f3a"
             ],
             [
              0.8888888888888888,
              "#fdca26"
             ],
             [
              1,
              "#f0f921"
             ]
            ],
            "type": "contour"
           }
          ],
          "contourcarpet": [
           {
            "colorbar": {
             "outlinewidth": 0,
             "ticks": ""
            },
            "type": "contourcarpet"
           }
          ],
          "heatmap": [
           {
            "colorbar": {
             "outlinewidth": 0,
             "ticks": ""
            },
            "colorscale": [
             [
              0,
              "#0d0887"
             ],
             [
              0.1111111111111111,
              "#46039f"
             ],
             [
              0.2222222222222222,
              "#7201a8"
             ],
             [
              0.3333333333333333,
              "#9c179e"
             ],
             [
              0.4444444444444444,
              "#bd3786"
             ],
             [
              0.5555555555555556,
              "#d8576b"
             ],
             [
              0.6666666666666666,
              "#ed7953"
             ],
             [
              0.7777777777777778,
              "#fb9f3a"
             ],
             [
              0.8888888888888888,
              "#fdca26"
             ],
             [
              1,
              "#f0f921"
             ]
            ],
            "type": "heatmap"
           }
          ],
          "heatmapgl": [
           {
            "colorbar": {
             "outlinewidth": 0,
             "ticks": ""
            },
            "colorscale": [
             [
              0,
              "#0d0887"
             ],
             [
              0.1111111111111111,
              "#46039f"
             ],
             [
              0.2222222222222222,
              "#7201a8"
             ],
             [
              0.3333333333333333,
              "#9c179e"
             ],
             [
              0.4444444444444444,
              "#bd3786"
             ],
             [
              0.5555555555555556,
              "#d8576b"
             ],
             [
              0.6666666666666666,
              "#ed7953"
             ],
             [
              0.7777777777777778,
              "#fb9f3a"
             ],
             [
              0.8888888888888888,
              "#fdca26"
             ],
             [
              1,
              "#f0f921"
             ]
            ],
            "type": "heatmapgl"
           }
          ],
          "histogram": [
           {
            "marker": {
             "pattern": {
              "fillmode": "overlay",
              "size": 10,
              "solidity": 0.2
             }
            },
            "type": "histogram"
           }
          ],
          "histogram2d": [
           {
            "colorbar": {
             "outlinewidth": 0,
             "ticks": ""
            },
            "colorscale": [
             [
              0,
              "#0d0887"
             ],
             [
              0.1111111111111111,
              "#46039f"
             ],
             [
              0.2222222222222222,
              "#7201a8"
             ],
             [
              0.3333333333333333,
              "#9c179e"
             ],
             [
              0.4444444444444444,
              "#bd3786"
             ],
             [
              0.5555555555555556,
              "#d8576b"
             ],
             [
              0.6666666666666666,
              "#ed7953"
             ],
             [
              0.7777777777777778,
              "#fb9f3a"
             ],
             [
              0.8888888888888888,
              "#fdca26"
             ],
             [
              1,
              "#f0f921"
             ]
            ],
            "type": "histogram2d"
           }
          ],
          "histogram2dcontour": [
           {
            "colorbar": {
             "outlinewidth": 0,
             "ticks": ""
            },
            "colorscale": [
             [
              0,
              "#0d0887"
             ],
             [
              0.1111111111111111,
              "#46039f"
             ],
             [
              0.2222222222222222,
              "#7201a8"
             ],
             [
              0.3333333333333333,
              "#9c179e"
             ],
             [
              0.4444444444444444,
              "#bd3786"
             ],
             [
              0.5555555555555556,
              "#d8576b"
             ],
             [
              0.6666666666666666,
              "#ed7953"
             ],
             [
              0.7777777777777778,
              "#fb9f3a"
             ],
             [
              0.8888888888888888,
              "#fdca26"
             ],
             [
              1,
              "#f0f921"
             ]
            ],
            "type": "histogram2dcontour"
           }
          ],
          "mesh3d": [
           {
            "colorbar": {
             "outlinewidth": 0,
             "ticks": ""
            },
            "type": "mesh3d"
           }
          ],
          "parcoords": [
           {
            "line": {
             "colorbar": {
              "outlinewidth": 0,
              "ticks": ""
             }
            },
            "type": "parcoords"
           }
          ],
          "pie": [
           {
            "automargin": true,
            "type": "pie"
           }
          ],
          "scatter": [
           {
            "fillpattern": {
             "fillmode": "overlay",
             "size": 10,
             "solidity": 0.2
            },
            "type": "scatter"
           }
          ],
          "scatter3d": [
           {
            "line": {
             "colorbar": {
              "outlinewidth": 0,
              "ticks": ""
             }
            },
            "marker": {
             "colorbar": {
              "outlinewidth": 0,
              "ticks": ""
             }
            },
            "type": "scatter3d"
           }
          ],
          "scattercarpet": [
           {
            "marker": {
             "colorbar": {
              "outlinewidth": 0,
              "ticks": ""
             }
            },
            "type": "scattercarpet"
           }
          ],
          "scattergeo": [
           {
            "marker": {
             "colorbar": {
              "outlinewidth": 0,
              "ticks": ""
             }
            },
            "type": "scattergeo"
           }
          ],
          "scattergl": [
           {
            "marker": {
             "colorbar": {
              "outlinewidth": 0,
              "ticks": ""
             }
            },
            "type": "scattergl"
           }
          ],
          "scattermapbox": [
           {
            "marker": {
             "colorbar": {
              "outlinewidth": 0,
              "ticks": ""
             }
            },
            "type": "scattermapbox"
           }
          ],
          "scatterpolar": [
           {
            "marker": {
             "colorbar": {
              "outlinewidth": 0,
              "ticks": ""
             }
            },
            "type": "scatterpolar"
           }
          ],
          "scatterpolargl": [
           {
            "marker": {
             "colorbar": {
              "outlinewidth": 0,
              "ticks": ""
             }
            },
            "type": "scatterpolargl"
           }
          ],
          "scatterternary": [
           {
            "marker": {
             "colorbar": {
              "outlinewidth": 0,
              "ticks": ""
             }
            },
            "type": "scatterternary"
           }
          ],
          "surface": [
           {
            "colorbar": {
             "outlinewidth": 0,
             "ticks": ""
            },
            "colorscale": [
             [
              0,
              "#0d0887"
             ],
             [
              0.1111111111111111,
              "#46039f"
             ],
             [
              0.2222222222222222,
              "#7201a8"
             ],
             [
              0.3333333333333333,
              "#9c179e"
             ],
             [
              0.4444444444444444,
              "#bd3786"
             ],
             [
              0.5555555555555556,
              "#d8576b"
             ],
             [
              0.6666666666666666,
              "#ed7953"
             ],
             [
              0.7777777777777778,
              "#fb9f3a"
             ],
             [
              0.8888888888888888,
              "#fdca26"
             ],
             [
              1,
              "#f0f921"
             ]
            ],
            "type": "surface"
           }
          ],
          "table": [
           {
            "cells": {
             "fill": {
              "color": "#EBF0F8"
             },
             "line": {
              "color": "white"
             }
            },
            "header": {
             "fill": {
              "color": "#C8D4E3"
             },
             "line": {
              "color": "white"
             }
            },
            "type": "table"
           }
          ]
         },
         "layout": {
          "annotationdefaults": {
           "arrowcolor": "#2a3f5f",
           "arrowhead": 0,
           "arrowwidth": 1
          },
          "autotypenumbers": "strict",
          "coloraxis": {
           "colorbar": {
            "outlinewidth": 0,
            "ticks": ""
           }
          },
          "colorscale": {
           "diverging": [
            [
             0,
             "#8e0152"
            ],
            [
             0.1,
             "#c51b7d"
            ],
            [
             0.2,
             "#de77ae"
            ],
            [
             0.3,
             "#f1b6da"
            ],
            [
             0.4,
             "#fde0ef"
            ],
            [
             0.5,
             "#f7f7f7"
            ],
            [
             0.6,
             "#e6f5d0"
            ],
            [
             0.7,
             "#b8e186"
            ],
            [
             0.8,
             "#7fbc41"
            ],
            [
             0.9,
             "#4d9221"
            ],
            [
             1,
             "#276419"
            ]
           ],
           "sequential": [
            [
             0,
             "#0d0887"
            ],
            [
             0.1111111111111111,
             "#46039f"
            ],
            [
             0.2222222222222222,
             "#7201a8"
            ],
            [
             0.3333333333333333,
             "#9c179e"
            ],
            [
             0.4444444444444444,
             "#bd3786"
            ],
            [
             0.5555555555555556,
             "#d8576b"
            ],
            [
             0.6666666666666666,
             "#ed7953"
            ],
            [
             0.7777777777777778,
             "#fb9f3a"
            ],
            [
             0.8888888888888888,
             "#fdca26"
            ],
            [
             1,
             "#f0f921"
            ]
           ],
           "sequentialminus": [
            [
             0,
             "#0d0887"
            ],
            [
             0.1111111111111111,
             "#46039f"
            ],
            [
             0.2222222222222222,
             "#7201a8"
            ],
            [
             0.3333333333333333,
             "#9c179e"
            ],
            [
             0.4444444444444444,
             "#bd3786"
            ],
            [
             0.5555555555555556,
             "#d8576b"
            ],
            [
             0.6666666666666666,
             "#ed7953"
            ],
            [
             0.7777777777777778,
             "#fb9f3a"
            ],
            [
             0.8888888888888888,
             "#fdca26"
            ],
            [
             1,
             "#f0f921"
            ]
           ]
          },
          "colorway": [
           "#636efa",
           "#EF553B",
           "#00cc96",
           "#ab63fa",
           "#FFA15A",
           "#19d3f3",
           "#FF6692",
           "#B6E880",
           "#FF97FF",
           "#FECB52"
          ],
          "font": {
           "color": "#2a3f5f"
          },
          "geo": {
           "bgcolor": "white",
           "lakecolor": "white",
           "landcolor": "#E5ECF6",
           "showlakes": true,
           "showland": true,
           "subunitcolor": "white"
          },
          "hoverlabel": {
           "align": "left"
          },
          "hovermode": "closest",
          "mapbox": {
           "style": "light"
          },
          "paper_bgcolor": "white",
          "plot_bgcolor": "#E5ECF6",
          "polar": {
           "angularaxis": {
            "gridcolor": "white",
            "linecolor": "white",
            "ticks": ""
           },
           "bgcolor": "#E5ECF6",
           "radialaxis": {
            "gridcolor": "white",
            "linecolor": "white",
            "ticks": ""
           }
          },
          "scene": {
           "xaxis": {
            "backgroundcolor": "#E5ECF6",
            "gridcolor": "white",
            "gridwidth": 2,
            "linecolor": "white",
            "showbackground": true,
            "ticks": "",
            "zerolinecolor": "white"
           },
           "yaxis": {
            "backgroundcolor": "#E5ECF6",
            "gridcolor": "white",
            "gridwidth": 2,
            "linecolor": "white",
            "showbackground": true,
            "ticks": "",
            "zerolinecolor": "white"
           },
           "zaxis": {
            "backgroundcolor": "#E5ECF6",
            "gridcolor": "white",
            "gridwidth": 2,
            "linecolor": "white",
            "showbackground": true,
            "ticks": "",
            "zerolinecolor": "white"
           }
          },
          "shapedefaults": {
           "line": {
            "color": "#2a3f5f"
           }
          },
          "ternary": {
           "aaxis": {
            "gridcolor": "white",
            "linecolor": "white",
            "ticks": ""
           },
           "baxis": {
            "gridcolor": "white",
            "linecolor": "white",
            "ticks": ""
           },
           "bgcolor": "#E5ECF6",
           "caxis": {
            "gridcolor": "white",
            "linecolor": "white",
            "ticks": ""
           }
          },
          "title": {
           "x": 0.05
          },
          "xaxis": {
           "automargin": true,
           "gridcolor": "white",
           "linecolor": "white",
           "ticks": "",
           "title": {
            "standoff": 15
           },
           "zerolinecolor": "white",
           "zerolinewidth": 2
          },
          "yaxis": {
           "automargin": true,
           "gridcolor": "white",
           "linecolor": "white",
           "ticks": "",
           "title": {
            "standoff": 15
           },
           "zerolinecolor": "white",
           "zerolinewidth": 2
          }
         }
        },
        "title": {
         "text": "Old Faithful Eruptions",
         "x": 0.5
        },
        "xaxis": {
         "title": {
          "text": "Duration"
         }
        },
        "yaxis": {
         "title": {
          "text": "Interval"
         }
        }
       }
      }
     },
     "metadata": {},
     "output_type": "display_data"
    }
   ],
   "source": [
    "data = [go.Scatter(x=df['X'], y=df['Y'], mode='markers', name='Old Faithful Eruptions')]    \n",
    "layout = go.Layout(title='Old Faithful Eruptions', title_x=0.5, xaxis_title='Duration', yaxis_title='Interval')\n",
    "fig = go.Figure(data=data, layout=layout)\n",
    "fig.show()"
   ]
  },
  {
   "cell_type": "code",
   "execution_count": 4,
   "metadata": {},
   "outputs": [],
   "source": [
    "eruption1 = 35\n",
    "eruption1_f = f'{eruption1:.1f}'\n",
    "eruption2 = 120\n",
    "eruption2_f = f'{eruption2:.1f}'"
   ]
  },
  {
   "cell_type": "code",
   "execution_count": 5,
   "metadata": {},
   "outputs": [
    {
     "data": {
      "text/html": [
       "\n",
       "        <iframe\n",
       "            width=\"100%\"\n",
       "            height=\"650\"\n",
       "            src=\"http://127.0.0.1:8050/\"\n",
       "            frameborder=\"0\"\n",
       "            allowfullscreen\n",
       "            \n",
       "        ></iframe>\n",
       "        "
      ],
      "text/plain": [
       "<IPython.lib.display.IFrame at 0x168265dc0>"
      ]
     },
     "metadata": {},
     "output_type": "display_data"
    }
   ],
   "source": [
    "app = dash.Dash(__name__)\n",
    "\n",
    "def generate_table(dataframe, max_rows=10):\n",
    "    return html.Table([\n",
    "        html.Thead(\n",
    "            html.Tr([html.Th(col) for col in dataframe.columns])\n",
    "        ),\n",
    "        html.Tbody([\n",
    "            html.Tr([\n",
    "                html.Td(dataframe.iloc[i][col]) for col in dataframe.columns\n",
    "            ]) for i in range(min(len(dataframe), max_rows))\n",
    "        ])\n",
    "    ])\n",
    "\n",
    "app.layout = html.Div(children=[\n",
    "    html.Div(\n",
    "        children='Eruption times of the Old Faithful geyser',\n",
    "        style={'textAlign': 'center', 'color': '#111111', 'fontSize': 40},\n",
    "        className='h1'\n",
    "    ),\n",
    "    html.Div(\n",
    "        children='This is a simple dashboard',\n",
    "        style={'textAlign': 'center', 'color': '#111111', 'fontSize': 30},\n",
    "        className='h2'\n",
    "    ),\n",
    "    html.Div(\n",
    "        children=[\n",
    "            html.H2('Dashboard Information'),\n",
    "            html.Table([\n",
    "                html.Tr([\n",
    "                    html.Td(\n",
    "                        dcc.Markdown(f'''\n",
    "                            ### This dashboard visualizes the duration times of the Old Faithful geyser by interval time.\n",
    "\n",
    "                            **Eruption Details**:\n",
    "\n",
    "                            - **Interval Between Eruptions**: Typically {eruption1_f} to {eruption2_f} minutes, averaging around 90 minutes.\n",
    "                            - **Eruption Duration**: Lasts between 1.5 to 5 minutes.\n",
    "                            - **Height of Eruptions**: Water can reach 106 to 185 feet (32 to 56 meters).\n",
    "                            - **Factors Affecting Eruptions**: Seismic activity, seasonal changes, and water supply.\n",
    "\n",
    "                            For real-time predictions, check the National Park Service's [Old Faithful Geyser predictions](https://www.nps.gov/yell/learn/photosmultimedia/webcams.htm).\n",
    "                        '''),\n",
    "                        style={'width': '70%', 'verticalAlign': 'top', 'paddingRight': '20px'}\n",
    "                    ),\n",
    "                    html.Td(\n",
    "                        html.Img(\n",
    "                            src='/assets/old_faithful.jpeg',  # Update this path as necessary\n",
    "                            style={\n",
    "                                'width': '100%',  # Set the width of the image\n",
    "                                'borderRadius': '5px'  # Optional: Add rounded corners to the image\n",
    "                            }\n",
    "                        ),\n",
    "                        style={'width': '30%'}\n",
    "                    )\n",
    "                ])\n",
    "            ]),\n",
    "        ],\n",
    "        style={\n",
    "            'backgroundColor': '#f0f0f0',  # Change this to your desired background color\n",
    "            'padding': '20px',  # Add padding for better layout\n",
    "            'borderRadius': '5px',  # Optional: Add rounded corners\n",
    "            'boxShadow': '2px 2px 5px rgba(0, 0, 0, 0.1)'  # Optional: Add a subtle shadow\n",
    "        }\n",
    "    ),\n",
    "    dcc.Graph(figure=fig),\n",
    "    dash_table.DataTable(data=df.to_dict('records'), page_size=10)\n",
    "])\n",
    "\n",
    "# Run the app\n",
    "# if __name__ == '__main__':\n",
    "app.run(debug=True)"
   ]
  },
  {
   "cell_type": "code",
   "execution_count": 8,
   "metadata": {},
   "outputs": [
    {
     "data": {
      "text/html": [
       "\n",
       "        <iframe\n",
       "            width=\"100%\"\n",
       "            height=\"650\"\n",
       "            src=\"http://127.0.0.1:8050/\"\n",
       "            frameborder=\"0\"\n",
       "            allowfullscreen\n",
       "            \n",
       "        ></iframe>\n",
       "        "
      ],
      "text/plain": [
       "<IPython.lib.display.IFrame at 0x16b1c4f70>"
      ]
     },
     "metadata": {},
     "output_type": "display_data"
    }
   ],
   "source": [
    "# import dash\n",
    "from dash import dcc, html, Input, Output, State\n",
    "import dash_bootstrap_components as dbc\n",
    "import os\n",
    "\n",
    "# Initialize the Dash app\n",
    "app = dash.Dash(__name__, external_stylesheets=[dbc.themes.BOOTSTRAP])\n",
    "\n",
    "# Directory to browse\n",
    "BASE_DIRECTORY = os.getcwd()  # Change this to your desired directory\n",
    "\n",
    "# Function to list files in a directory\n",
    "def list_files_in_directory(directory):\n",
    "    try:\n",
    "        files = os.listdir(directory)\n",
    "        return files\n",
    "    except FileNotFoundError:\n",
    "        return []\n",
    "\n",
    "# Layout of the Dash app\n",
    "app.layout = dbc.Container([\n",
    "    html.H1(\"File Browser and Uploader\"),\n",
    "    \n",
    "    # File upload component\n",
    "    dcc.Upload(\n",
    "        id='upload-data',\n",
    "        children=html.Div([\n",
    "            'Drag and Drop or ',\n",
    "            html.A('Select Files')\n",
    "        ]),\n",
    "        style={\n",
    "            'width': '100%',\n",
    "            'height': '60px',\n",
    "            'lineHeight': '60px',\n",
    "            'borderWidth': '1px',\n",
    "            'borderStyle': 'dashed',\n",
    "            'borderRadius': '5px',\n",
    "            'textAlign': 'center',\n",
    "            'margin': '10px'\n",
    "        },\n",
    "        multiple=True\n",
    "    ),\n",
    "    \n",
    "    # Display uploaded files\n",
    "    html.Div(id='output-file-upload'),\n",
    "    \n",
    "    # File explorer\n",
    "    html.Hr(),\n",
    "    html.H3(\"File Explorer\"),\n",
    "    dcc.Input(\n",
    "        id='directory-input',\n",
    "        type='text',\n",
    "        value=BASE_DIRECTORY,\n",
    "        style={'width': '100%'},\n",
    "    ),\n",
    "    html.Button('Browse', id='browse-button'),\n",
    "    html.Ul(id='file-list')\n",
    "])\n",
    "\n",
    "# Callback to handle file uploads\n",
    "@app.callback(\n",
    "    Output('output-file-upload', 'children'),\n",
    "    Input('upload-data', 'contents'),\n",
    "    State('upload-data', 'filename'),\n",
    "    State('upload-data', 'last_modified'),\n",
    ")\n",
    "def update_output(list_of_contents, list_of_names, list_of_dates):\n",
    "    if list_of_contents is not None:\n",
    "        children = [\n",
    "            html.Div([\n",
    "                html.H5(name),\n",
    "                # You can add more details or handling here if needed\n",
    "            ]) for name in list_of_names\n",
    "        ]\n",
    "        return children\n",
    "\n",
    "# Callback to update file list when browsing a directory\n",
    "@app.callback(\n",
    "    Output('file-list', 'children'),\n",
    "    Input('browse-button', 'n_clicks'),\n",
    "    State('directory-input', 'value')\n",
    ")\n",
    "def update_file_list(n_clicks, directory):\n",
    "    if n_clicks is None:\n",
    "        raise dash.exceptions.PreventUpdate\n",
    "\n",
    "    files = list_files_in_directory(directory)\n",
    "    if not files:\n",
    "        return [html.Li(\"No files found or directory does not exist.\")]\n",
    "\n",
    "    return [html.Li(file) for file in files]\n",
    "\n",
    "# Run the app\n",
    "# if __name__ == '__main__':\n",
    "app.run_server(debug=True)"
   ]
  },
  {
   "cell_type": "code",
   "execution_count": 6,
   "metadata": {},
   "outputs": [
    {
     "data": {
      "text/html": [
       "\n",
       "        <iframe\n",
       "            width=\"100%\"\n",
       "            height=\"650\"\n",
       "            src=\"http://127.0.0.1:8050/\"\n",
       "            frameborder=\"0\"\n",
       "            allowfullscreen\n",
       "            \n",
       "        ></iframe>\n",
       "        "
      ],
      "text/plain": [
       "<IPython.lib.display.IFrame at 0x16afa25e0>"
      ]
     },
     "metadata": {},
     "output_type": "display_data"
    }
   ],
   "source": [
    "import dash\n",
    "from dash import dcc, html, Input, Output, State\n",
    "import os\n",
    "\n",
    "# Initialize the Dash app\n",
    "app = dash.Dash(__name__)\n",
    "\n",
    "# Directory to browse\n",
    "BASE_DIRECTORY = os.getcwd()  # Change this to your desired directory\n",
    "\n",
    "# Function to list files in a directory\n",
    "def list_files_in_directory(directory):\n",
    "    try:\n",
    "        files = os.listdir(directory)\n",
    "        return files\n",
    "    except FileNotFoundError:\n",
    "        return []\n",
    "\n",
    "# Layout of the Dash app\n",
    "app.layout = html.Div([\n",
    "    html.H1(\"File Browser and Uploader\"),\n",
    "    \n",
    "    # File upload component\n",
    "    dcc.Upload(\n",
    "        id='upload-data',\n",
    "        children=html.Div([\n",
    "            'Drag and Drop or ',\n",
    "            html.A('Select Files')\n",
    "        ]),\n",
    "        style={\n",
    "            'width': '100%',\n",
    "            'height': '60px',\n",
    "            'lineHeight': '60px',\n",
    "            'borderWidth': '1px',\n",
    "            'borderStyle': 'dashed',\n",
    "            'borderRadius': '5px',\n",
    "            'textAlign': 'center',\n",
    "            'margin': '10px'\n",
    "        },\n",
    "        multiple=True\n",
    "    ),\n",
    "    \n",
    "    # Display uploaded files\n",
    "    html.Div(id='output-file-upload'),\n",
    "    \n",
    "    # File explorer\n",
    "    html.Hr(),\n",
    "    html.H3(\"File Explorer\"),\n",
    "    dcc.Input(\n",
    "        id='directory-input',\n",
    "        type='text',\n",
    "        value=BASE_DIRECTORY,\n",
    "        style={'width': '100%'},\n",
    "    ),\n",
    "    html.Button('Browse', id='browse-button'),\n",
    "    html.Ul(id='file-list')\n",
    "])\n",
    "\n",
    "# Callback to handle file uploads\n",
    "@app.callback(\n",
    "    Output('output-file-upload', 'children'),\n",
    "    Input('upload-data', 'contents'),\n",
    "    State('upload-data', 'filename'),\n",
    "    State('upload-data', 'last_modified'),\n",
    ")\n",
    "def update_output(list_of_contents, list_of_names, list_of_dates):\n",
    "    if list_of_contents is not None:\n",
    "        children = [\n",
    "            html.Div([\n",
    "                html.H5(name),\n",
    "                # You can add more details or handling here if needed\n",
    "            ]) for name in list_of_names\n",
    "        ]\n",
    "        return children\n",
    "\n",
    "# Callback to update file list when browsing a directory\n",
    "@app.callback(\n",
    "    Output('file-list', 'children'),\n",
    "    Input('browse-button', 'n_clicks'),\n",
    "    State('directory-input', 'value')\n",
    ")\n",
    "def update_file_list(n_clicks, directory):\n",
    "    if n_clicks is None:\n",
    "        raise dash.exceptions.PreventUpdate\n",
    "\n",
    "    files = list_files_in_directory(directory)\n",
    "    if not files:\n",
    "        return [html.Li(\"No files found or directory does not exist.\")]\n",
    "\n",
    "    return [html.Li(file) for file in files]\n",
    "\n",
    "# Run the app\n",
    "# if __name__ == '__main__':\n",
    "app.run_server(debug=True)"
   ]
  },
  {
   "cell_type": "code",
   "execution_count": 7,
   "metadata": {},
   "outputs": [
    {
     "data": {
      "text/html": [
       "\n",
       "        <iframe\n",
       "            width=\"100%\"\n",
       "            height=\"650\"\n",
       "            src=\"http://127.0.0.1:8050/\"\n",
       "            frameborder=\"0\"\n",
       "            allowfullscreen\n",
       "            \n",
       "        ></iframe>\n",
       "        "
      ],
      "text/plain": [
       "<IPython.lib.display.IFrame at 0x16b22fb20>"
      ]
     },
     "metadata": {},
     "output_type": "display_data"
    }
   ],
   "source": [
    "import dash\n",
    "from dash import dcc, html, Input, Output, State\n",
    "import dash_bootstrap_components as dbc\n",
    "import os\n",
    "\n",
    "# Initialize the Dash app\n",
    "app = dash.Dash(__name__, external_stylesheets=[dbc.themes.BOOTSTRAP])\n",
    "\n",
    "# Directory to browse\n",
    "BASE_DIRECTORY = os.getcwd()  # Change this to your desired directory\n",
    "\n",
    "# Function to list files in a directory\n",
    "def list_files_in_directory(directory):\n",
    "    try:\n",
    "        files = os.listdir(directory)\n",
    "        return files\n",
    "    except FileNotFoundError:\n",
    "        return []\n",
    "\n",
    "# Layout of the Dash app\n",
    "app.layout = dbc.Container([\n",
    "    html.H1(\"File Browser and Uploader\"),\n",
    "    \n",
    "    # File upload component\n",
    "    dcc.Upload(\n",
    "        id='upload-data',\n",
    "        children=html.Div([\n",
    "            'Drag and Drop or ',\n",
    "            html.A('Select Files')\n",
    "        ]),\n",
    "        style={\n",
    "            'width': '100%',\n",
    "            'height': '60px',\n",
    "            'lineHeight': '60px',\n",
    "            'borderWidth': '1px',\n",
    "            'borderStyle': 'dashed',\n",
    "            'borderRadius': '5px',\n",
    "            'textAlign': 'center',\n",
    "            'margin': '10px'\n",
    "        },\n",
    "        multiple=True\n",
    "    ),\n",
    "    \n",
    "    # Display uploaded files\n",
    "    html.Div(id='output-file-upload'),\n",
    "    \n",
    "    # File explorer\n",
    "    html.Hr(),\n",
    "    html.H3(\"File Explorer\"),\n",
    "    dcc.Input(\n",
    "        id='directory-input',\n",
    "        type='text',\n",
    "        value=BASE_DIRECTORY,\n",
    "        style={'width': '100%'},\n",
    "    ),\n",
    "    html.Button('Browse', id='browse-button'),\n",
    "    html.Ul(id='file-list')\n",
    "])\n",
    "\n",
    "# Callback to handle file uploads\n",
    "@app.callback(\n",
    "    Output('output-file-upload', 'children'),\n",
    "    Input('upload-data', 'contents'),\n",
    "    State('upload-data', 'filename'),\n",
    "    State('upload-data', 'last_modified'),\n",
    ")\n",
    "def update_output(list_of_contents, list_of_names, list_of_dates):\n",
    "    if list_of_contents is not None:\n",
    "        children = [\n",
    "            html.Div([\n",
    "                html.H5(name),\n",
    "                # You can add more details or handling here if needed\n",
    "            ]) for name in list_of_names\n",
    "        ]\n",
    "        return children\n",
    "\n",
    "# Callback to update file list when browsing a directory\n",
    "@app.callback(\n",
    "    Output('file-list', 'children'),\n",
    "    Input('browse-button', 'n_clicks'),\n",
    "    State('directory-input', 'value')\n",
    ")\n",
    "def update_file_list(n_clicks, directory):\n",
    "    if n_clicks is None:\n",
    "        raise dash.exceptions.PreventUpdate\n",
    "\n",
    "    files = list_files_in_directory(directory)\n",
    "    if not files:\n",
    "        return [html.Li(\"No files found or directory does not exist.\")]\n",
    "\n",
    "    return [html.Li(file) for file in files]\n",
    "\n",
    "# Run the app\n",
    "# if __name__ == '__main__':\n",
    "app.run_server(debug=True)"
   ]
  },
  {
   "cell_type": "code",
   "execution_count": 16,
   "metadata": {},
   "outputs": [
    {
     "data": {
      "text/html": [
       "\n",
       "        <iframe\n",
       "            width=\"100%\"\n",
       "            height=\"650\"\n",
       "            src=\"http://127.0.0.1:8050/\"\n",
       "            frameborder=\"0\"\n",
       "            allowfullscreen\n",
       "            \n",
       "        ></iframe>\n",
       "        "
      ],
      "text/plain": [
       "<IPython.lib.display.IFrame at 0x16b280a00>"
      ]
     },
     "metadata": {},
     "output_type": "display_data"
    }
   ],
   "source": [
    "from dash import Dash, dcc, html, dash_table, Input, Output, State, callback\n",
    "\n",
    "import base64\n",
    "import datetime\n",
    "import io\n",
    "\n",
    "import pandas as pd\n",
    "\n",
    "external_stylesheets = ['https://codepen.io/chriddyp/pen/bWLwgP.css']\n",
    "\n",
    "app = Dash(__name__, external_stylesheets=external_stylesheets)\n",
    "\n",
    "app.layout = html.Div([\n",
    "    dcc.Upload(\n",
    "        id='upload-data',\n",
    "        children=html.Div([\n",
    "            'Drag and Drop or ',\n",
    "            html.A('Select Files')\n",
    "        ]),\n",
    "        style={\n",
    "            'width': '100%',\n",
    "            'height': '60px',\n",
    "            'lineHeight': '60px',\n",
    "            'borderWidth': '1px',\n",
    "            'borderStyle': 'dashed',\n",
    "            'borderRadius': '5px',\n",
    "            'textAlign': 'center',\n",
    "            'margin': '10px'\n",
    "        },\n",
    "        # Allow multiple files to be uploaded\n",
    "        multiple=True\n",
    "    ),\n",
    "    html.Div(id='output-data-upload'),\n",
    "])\n",
    "\n",
    "def parse_contents(contents, filename, date):\n",
    "    content_type, content_string = contents.split(',')\n",
    "\n",
    "    decoded = base64.b64decode(content_string)\n",
    "    try:\n",
    "        if 'csv' in filename:\n",
    "            # Assume that the user uploaded a CSV file\n",
    "            df = pd.read_csv(\n",
    "                io.StringIO(decoded.decode('utf-8')))\n",
    "        elif 'xls' in filename:\n",
    "            # Assume that the user uploaded an excel file\n",
    "            df = pd.read_excel(io.BytesIO(decoded))\n",
    "    except Exception as e:\n",
    "        print(e)\n",
    "        return html.Div([\n",
    "            'There was an error processing this file.'\n",
    "        ])\n",
    "\n",
    "    return html.Div([\n",
    "        html.H5(filename),\n",
    "        html.H6(datetime.datetime.fromtimestamp(date)),\n",
    "\n",
    "        dash_table.DataTable(\n",
    "            df.to_dict('records'),\n",
    "            [{'name': i, 'id': i} for i in df.columns]\n",
    "        ),\n",
    "\n",
    "        html.Hr(),  # horizontal line\n",
    "\n",
    "        # For debugging, display the raw contents provided by the web browser\n",
    "        html.Div('Raw Content'),\n",
    "        html.Pre(contents[0:200] + '...', style={\n",
    "            'whiteSpace': 'pre-wrap',\n",
    "            'wordBreak': 'break-all'\n",
    "        })\n",
    "    ])\n",
    "\n",
    "@callback(Output('output-data-upload', 'children'),\n",
    "              Input('upload-data', 'contents'),\n",
    "              State('upload-data', 'filename'),\n",
    "              State('upload-data', 'last_modified'))\n",
    "def update_output(list_of_contents, list_of_names, list_of_dates):\n",
    "    if list_of_contents is not None:\n",
    "        children = [\n",
    "            parse_contents(c, n, d) for c, n, d in\n",
    "            zip(list_of_contents, list_of_names, list_of_dates)]\n",
    "        return children\n",
    "\n",
    "# if __name__ == '__main__':\n",
    "app.run(debug=True)"
   ]
  },
  {
   "cell_type": "code",
   "execution_count": 13,
   "metadata": {},
   "outputs": [
    {
     "data": {
      "text/html": [
       "\n",
       "        <iframe\n",
       "            width=\"100%\"\n",
       "            height=\"650\"\n",
       "            src=\"http://127.0.0.1:8050/\"\n",
       "            frameborder=\"0\"\n",
       "            allowfullscreen\n",
       "            \n",
       "        ></iframe>\n",
       "        "
      ],
      "text/plain": [
       "<IPython.lib.display.IFrame at 0x16844ab80>"
      ]
     },
     "metadata": {},
     "output_type": "display_data"
    }
   ],
   "source": [
    "app = dash.Dash(__name__)\n",
    "\n",
    "markdown_text = '''\n",
    "    ### Dash and Markdown \n",
    "    Dash apps can be written in Markdown. \n",
    "    Dash uses the [CommnMark](http://commonmark.org/) specification of Markdown.  \n",
    "    Check out their [60 Second Markdown Tutorial](http://commonmark.org/help/)\n",
    "    if this is your first introduction to Markdown!  \n",
    "    Markdown includes syntax for things like **bold text** and *italics*, \n",
    "    [links](htt://commonmark.org/help), inline `code` snippets, lists, quotes, and more.\n",
    "    '''\n",
    "\n",
    "app.layout = html.Div([\n",
    "    dcc.Markdown(children=markdown_text),\n",
    "    html.Div([html.Label('Dropdown'),\n",
    "    dcc.Dropdown(options=[{'label': 'New York City', 'value': 'NYC'}, \n",
    "                          {'label': 'San Francisco', 'value':'SF'}],\n",
    "                           value='SF')],),\n",
    "    html.P(),\n",
    "    html.Div([html.Label('Slider'),\n",
    "    dcc.Slider(min=-10, max=10, step=1.0, value=0)]),\n",
    "\n",
    "    html.P(),\n",
    "    html.Div([html.Label('Some Radio Items'),\n",
    "    dcc.RadioItems(options=[{'label': 'New York City', 'value': 'NYC'},\n",
    "                            {'label': 'San Francisco', 'value': 'SF'}],\n",
    "                            value='SF')])\n",
    "               ])\n",
    "\n",
    "app.run(debug=True)"
   ]
  },
  {
   "cell_type": "code",
   "execution_count": 46,
   "metadata": {},
   "outputs": [
    {
     "name": "stdout",
     "output_type": "stream",
     "text": [
      "Error: no such file, variable, URL, history range or macro\n"
     ]
    }
   ],
   "source": []
  }
 ],
 "metadata": {
  "kernelspec": {
   "display_name": "ml2024",
   "language": "python",
   "name": "python3"
  },
  "language_info": {
   "codemirror_mode": {
    "name": "ipython",
    "version": 3
   },
   "file_extension": ".py",
   "mimetype": "text/x-python",
   "name": "python",
   "nbconvert_exporter": "python",
   "pygments_lexer": "ipython3",
   "version": "3.9.19"
  }
 },
 "nbformat": 4,
 "nbformat_minor": 2
}
