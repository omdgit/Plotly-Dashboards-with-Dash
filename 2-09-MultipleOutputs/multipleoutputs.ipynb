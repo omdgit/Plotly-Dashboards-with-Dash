{
 "cells": [
  {
   "cell_type": "code",
   "execution_count": 32,
   "metadata": {},
   "outputs": [],
   "source": [
    "import dash \n",
    "from dash import dcc, html, Input, Output\n",
    "import plotly.express as px\n",
    "import pandas as pd \n",
    "import plotly.graph_objects as go \n",
    "import sys \n",
    "\n",
    "sys.path.append('../')\n",
    "\n",
    "import omdutils as omd\n",
    "import base64"
   ]
  },
  {
   "cell_type": "code",
   "execution_count": 4,
   "metadata": {},
   "outputs": [
    {
     "data": {
      "text/html": [
       "<div>\n",
       "<style scoped>\n",
       "    .dataframe tbody tr th:only-of-type {\n",
       "        vertical-align: middle;\n",
       "    }\n",
       "\n",
       "    .dataframe tbody tr th {\n",
       "        vertical-align: top;\n",
       "    }\n",
       "\n",
       "    .dataframe thead th {\n",
       "        text-align: right;\n",
       "    }\n",
       "</style>\n",
       "<table border=\"1\" class=\"dataframe\">\n",
       "  <thead>\n",
       "    <tr style=\"text-align: right;\">\n",
       "      <th></th>\n",
       "      <th>wheels</th>\n",
       "      <th>color</th>\n",
       "      <th>image</th>\n",
       "    </tr>\n",
       "  </thead>\n",
       "  <tbody>\n",
       "    <tr>\n",
       "      <th>0</th>\n",
       "      <td>1</td>\n",
       "      <td>red</td>\n",
       "      <td>redunicycle.jpg</td>\n",
       "    </tr>\n",
       "    <tr>\n",
       "      <th>1</th>\n",
       "      <td>1</td>\n",
       "      <td>blue</td>\n",
       "      <td>blueunicycle.jpg</td>\n",
       "    </tr>\n",
       "    <tr>\n",
       "      <th>2</th>\n",
       "      <td>1</td>\n",
       "      <td>yellow</td>\n",
       "      <td>yellowunicycle.jpg</td>\n",
       "    </tr>\n",
       "    <tr>\n",
       "      <th>3</th>\n",
       "      <td>2</td>\n",
       "      <td>red</td>\n",
       "      <td>redbicycle.jpg</td>\n",
       "    </tr>\n",
       "    <tr>\n",
       "      <th>4</th>\n",
       "      <td>2</td>\n",
       "      <td>blue</td>\n",
       "      <td>bluemotorcycle.jpg</td>\n",
       "    </tr>\n",
       "  </tbody>\n",
       "</table>\n",
       "</div>"
      ],
      "text/plain": [
       "   wheels   color               image\n",
       "0       1     red     redunicycle.jpg\n",
       "1       1    blue    blueunicycle.jpg\n",
       "2       1  yellow  yellowunicycle.jpg\n",
       "3       2     red      redbicycle.jpg\n",
       "4       2    blue  bluemotorcycle.jpg"
      ]
     },
     "execution_count": 4,
     "metadata": {},
     "output_type": "execute_result"
    }
   ],
   "source": [
    "# df = pd.read_csv('../Data/wheels.csv')\n",
    "db = '../SourceData/datasets.db'\n",
    "# omd.to_sqlite(df, 'wheels', db)\n",
    "sql = 'SELECT * FROM wheels'\n",
    "df = omd.from_sqlite(sql, db)\n",
    "df.head()"
   ]
  },
  {
   "cell_type": "code",
   "execution_count": 36,
   "metadata": {},
   "outputs": [
    {
     "data": {
      "text/html": [
       "\n",
       "        <iframe\n",
       "            width=\"100%\"\n",
       "            height=\"650\"\n",
       "            src=\"http://127.0.0.1:8050/\"\n",
       "            frameborder=\"0\"\n",
       "            allowfullscreen\n",
       "            \n",
       "        ></iframe>\n",
       "        "
      ],
      "text/plain": [
       "<IPython.lib.display.IFrame at 0x16b7ad430>"
      ]
     },
     "metadata": {},
     "output_type": "display_data"
    }
   ],
   "source": [
    "app = dash.Dash()\n",
    "\n",
    "def encode_image(image_file):\n",
    "    encoded = base64.b64encode(open(image_file, 'rb').read())\n",
    "    return 'data:image/png;base64,{}'.format(encoded.decode())\n",
    "\n",
    "app.layout = html.Div([\n",
    "    html.H1('Web Application Dashboard'),\n",
    "    html.H2('Display image based on dropdown selections'),\n",
    "\n",
    "    html.Div([\n",
    "        dcc.RadioItems(\n",
    "            id='wheels',\n",
    "            options=[{'label': i, 'value': i} for i in df['wheels'].unique()],\n",
    "            value=1,\n",
    "            labelStyle={'display': 'inline-block'}\n",
    "        ),\n",
    "        html.Div(id='wheels-output'),\n",
    "        html.Hr(),\n",
    "        dcc.RadioItems(\n",
    "            id='colors',\n",
    "            options=[{'label': i, 'value': i} for i in df['color'].unique()],\n",
    "            value='blue',\n",
    "            labelStyle={'display': 'inline-block'}\n",
    "        ),\n",
    "        html.Div(id='colors-output'),\n",
    "        html.Img(id='display-image', src='children', height=300)\n",
    "    ]),\n",
    "], style={'fontFamily': 'helvetica', 'fontSize': 18})\n",
    "\n",
    "\n",
    "@app.callback(Output('wheels-output', 'children'),\n",
    "              Input('wheels', 'value'))\n",
    "def callback_a(wheels_value):\n",
    "    return f'You chose {wheels_value}'\n",
    "\n",
    "\n",
    "@app.callback(Output('colors-output', 'children'),\n",
    "              Input('colors', 'value'))\n",
    "def callback_b(colors_value):\n",
    "    return f'You chose {colors_value}'\n",
    "\n",
    "\n",
    "@app.callback(Output('display-image', 'src'),\n",
    "              Input('wheels', 'value'),\n",
    "              Input('colors', 'value'))\n",
    "def callback_image(wheels, colors):\n",
    "    path = '../Data/Images/'\n",
    "    return encode_image(path + df[(df ['wheels'] == wheels) & (df['color'] == colors)]['image'].values[0])\n",
    "\n",
    "app.run(debug=True)"
   ]
  },
  {
   "cell_type": "code",
   "execution_count": null,
   "metadata": {},
   "outputs": [],
   "source": []
  }
 ],
 "metadata": {
  "kernelspec": {
   "display_name": "ml2024",
   "language": "python",
   "name": "python3"
  },
  "language_info": {
   "codemirror_mode": {
    "name": "ipython",
    "version": 3
   },
   "file_extension": ".py",
   "mimetype": "text/x-python",
   "name": "python",
   "nbconvert_exporter": "python",
   "pygments_lexer": "ipython3",
   "version": "3.9.19"
  }
 },
 "nbformat": 4,
 "nbformat_minor": 2
}
