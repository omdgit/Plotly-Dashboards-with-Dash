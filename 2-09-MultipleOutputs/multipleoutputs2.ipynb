{
 "cells": [
  {
   "cell_type": "code",
   "execution_count": 2,
   "metadata": {},
   "outputs": [],
   "source": [
    "import dash \n",
    "from dash import dcc, html, Input, Output\n",
    "import plotly.express as px\n",
    "import pandas as pd \n",
    "import plotly.graph_objects as go \n",
    "import sys \n",
    "\n",
    "sys.path.append('../')\n",
    "\n",
    "import omdutils as omd"
   ]
  },
  {
   "cell_type": "code",
   "execution_count": 10,
   "metadata": {},
   "outputs": [
    {
     "data": {
      "text/html": [
       "\n",
       "        <iframe\n",
       "            width=\"100%\"\n",
       "            height=\"650\"\n",
       "            src=\"http://127.0.0.1:8050/\"\n",
       "            frameborder=\"0\"\n",
       "            allowfullscreen\n",
       "            \n",
       "        ></iframe>\n",
       "        "
      ],
      "text/plain": [
       "<IPython.lib.display.IFrame at 0x1684bfdc0>"
      ]
     },
     "metadata": {},
     "output_type": "display_data"
    }
   ],
   "source": [
    "app = dash.Dash(__name__)\n",
    "\n",
    "app.layout = html.Div([\n",
    "    html.H1('OMD Dashboard'),\n",
    "    dcc.RangeSlider(\n",
    "        id='range-slider',\n",
    "        min=-6,\n",
    "        max=6,\n",
    "        step=1,\n",
    "        value=[-2, 2],\n",
    "        marks={i: str(i) for i in range(-6, 7, 1)}\n",
    "    ),\n",
    "    html.Div(id='slider-output')\n",
    "])\n",
    "\n",
    "@app.callback(\n",
    "    Output('slider-output', 'children'),\n",
    "    Input('range-slider', 'value')\n",
    ")\n",
    "def update_output(value):\n",
    "    return f'{value[0] * value[1]}'\n",
    "\n",
    "app.run(Debug=True)"
   ]
  }
 ],
 "metadata": {
  "kernelspec": {
   "display_name": "ml2024",
   "language": "python",
   "name": "python3"
  },
  "language_info": {
   "codemirror_mode": {
    "name": "ipython",
    "version": 3
   },
   "file_extension": ".py",
   "mimetype": "text/x-python",
   "name": "python",
   "nbconvert_exporter": "python",
   "pygments_lexer": "ipython3",
   "version": "3.9.19"
  }
 },
 "nbformat": 4,
 "nbformat_minor": 2
}
