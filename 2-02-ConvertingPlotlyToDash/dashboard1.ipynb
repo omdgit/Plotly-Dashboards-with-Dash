{
 "cells": [
  {
   "cell_type": "code",
   "execution_count": 2,
   "metadata": {},
   "outputs": [
    {
     "data": {
      "text/html": [
       "\n",
       "        <iframe\n",
       "            width=\"100%\"\n",
       "            height=\"650\"\n",
       "            src=\"http://127.0.0.1:8050/\"\n",
       "            frameborder=\"0\"\n",
       "            allowfullscreen\n",
       "            \n",
       "        ></iframe>\n",
       "        "
      ],
      "text/plain": [
       "<IPython.lib.display.IFrame at 0x114b09dc0>"
      ]
     },
     "metadata": {},
     "output_type": "display_data"
    }
   ],
   "source": [
    "import dash\n",
    "# import dash_core_components as dcc\n",
    "# import dash_html_components as html\n",
    "from dash import dcc, html\n",
    "import plotly.graph_objs as go\n",
    "import numpy as np\n",
    "\n",
    "app = dash.Dash()\n",
    "\n",
    "# Creating DATA\n",
    "np.random.seed(42)\n",
    "random_x = np.random.randint(1,101,100)\n",
    "random_y = np.random.randint(1,101,100)\n",
    "\n",
    "app.layout = html.Div([dcc.Graph(id='scatterplot',\n",
    "                    figure = {'data':[\n",
    "                            go.Scatter(\n",
    "                            x=random_x,\n",
    "                            y=random_y,\n",
    "                            mode='markers',\n",
    "                            marker = {\n",
    "                                'size':12,\n",
    "                                'color': 'rgb(51,204,153)',\n",
    "                                'symbol':'pentagon',\n",
    "                                'line':{'width':2}\n",
    "                            }\n",
    "                            )],\n",
    "                    'layout':go.Layout(title='My Scatterplot',\n",
    "                                        xaxis = {'title':'Some X title'})}\n",
    "                    ),\n",
    "                    dcc.Graph(id='scatterplot2',\n",
    "                                        figure = {'data':[\n",
    "                                                go.Scatter(\n",
    "                                                x=random_x,\n",
    "                                                y=random_y,\n",
    "                                                mode='markers',\n",
    "                                                marker = {\n",
    "                                                    'size':12,\n",
    "                                                    'color': 'rgb(200,204,53)',\n",
    "                                                    'symbol':'pentagon',\n",
    "                                                    'line':{'width':2}\n",
    "                                                }\n",
    "                                                )],\n",
    "                                        'layout':go.Layout(title='Second Plot',\n",
    "                                                            xaxis = {'title':'Some X title'})}\n",
    "                                        )])\n",
    "\n",
    "if __name__ == '__main__':\n",
    "    app.run_server()\n"
   ]
  }
 ],
 "metadata": {
  "kernelspec": {
   "display_name": "ml2024",
   "language": "python",
   "name": "python3"
  },
  "language_info": {
   "codemirror_mode": {
    "name": "ipython",
    "version": 3
   },
   "file_extension": ".py",
   "mimetype": "text/x-python",
   "name": "python",
   "nbconvert_exporter": "python",
   "pygments_lexer": "ipython3",
   "version": "3.9.19"
  }
 },
 "nbformat": 4,
 "nbformat_minor": 2
}
